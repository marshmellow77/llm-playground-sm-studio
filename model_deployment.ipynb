{
 "cells": [
  {
   "cell_type": "code",
   "execution_count": null,
   "id": "fb3ebc9d",
   "metadata": {
    "tags": []
   },
   "outputs": [],
   "source": [
    "import sagemaker\n",
    "import boto3\n",
    "\n",
    "sess = sagemaker.Session()\n",
    "sagemaker_session_bucket = sess.default_bucket()\n",
    "role = sagemaker.get_execution_role() \n",
    "\n",
    "print(f\"sagemaker role arn: {role}\")\n",
    "print(f\"sagemaker bucket: {sess.default_bucket()}\")\n",
    "print(f\"sagemaker session region: {sess.boto_region_name}\")"
   ]
  },
  {
   "cell_type": "code",
   "execution_count": null,
   "id": "1c0f9a84-9649-431c-b2cf-8564d067034f",
   "metadata": {
    "tags": []
   },
   "outputs": [],
   "source": [
    "!pwd"
   ]
  },
  {
   "cell_type": "code",
   "execution_count": null,
   "id": "23ce4249-82cb-4dba-a6a5-301651d43b31",
   "metadata": {
    "tags": []
   },
   "outputs": [],
   "source": [
    "model_id = \"google/flan-t5-xxl\"\n",
    "model_name = model_id.split(\"/\")[-1]"
   ]
  },
  {
   "cell_type": "code",
   "execution_count": null,
   "id": "77722064-88f1-4367-8b6f-2c1728b2bb70",
   "metadata": {
    "tags": []
   },
   "outputs": [],
   "source": [
    "with open(\"model/model_name.txt\", \"w\") as f:\n",
    "    f.write(model_id)"
   ]
  },
  {
   "cell_type": "code",
   "execution_count": null,
   "id": "1496df3e-2025-4aa0-ae14-d3f091dca970",
   "metadata": {
    "tags": []
   },
   "outputs": [],
   "source": [
    "import os\n",
    "filePath = 'model/model.tar.gz'\n",
    "\n",
    "if os.path.exists(filePath):\n",
    "    os.remove(filePath)"
   ]
  },
  {
   "cell_type": "code",
   "execution_count": null,
   "id": "87ef447d-4d53-4ee5-af9b-390af2993976",
   "metadata": {
    "tags": []
   },
   "outputs": [],
   "source": [
    "!tar zcvf model/model.tar.gz model/*"
   ]
  },
  {
   "cell_type": "code",
   "execution_count": null,
   "id": "c93ec6e8",
   "metadata": {
    "tags": []
   },
   "outputs": [],
   "source": [
    "s3_location = f\"s3://{sess.default_bucket()}/{model_name}/model.tar.gz\""
   ]
  },
  {
   "cell_type": "code",
   "execution_count": null,
   "id": "5dd25703-33a9-472e-afa4-06bd4be60f75",
   "metadata": {
    "tags": []
   },
   "outputs": [],
   "source": [
    "!aws s3 cp model/model.tar.gz $s3_location"
   ]
  },
  {
   "cell_type": "code",
   "execution_count": null,
   "id": "06d3f958-b594-4bed-b9df-efb43b1e9e3c",
   "metadata": {
    "tags": []
   },
   "outputs": [],
   "source": [
    "from sagemaker.utils import name_from_base\n",
    "from sagemaker.huggingface.model import HuggingFaceModel\n",
    "\n",
    "endpoint_name = name_from_base(model_name)\n",
    "\n",
    "huggingface_model = HuggingFaceModel(\n",
    "    model_data=s3_location,\n",
    "    role=role,\n",
    "    transformers_version=\"4.17\",\n",
    "    pytorch_version=\"1.10\",\n",
    "    py_version='py38',\n",
    ")"
   ]
  },
  {
   "cell_type": "code",
   "execution_count": null,
   "id": "d0bc70d2-1d47-495c-87bd-91fff750c6d9",
   "metadata": {
    "tags": []
   },
   "outputs": [],
   "source": [
    "predictor = huggingface_model.deploy(\n",
    "    initial_instance_count=1,\n",
    "    instance_type=\"ml.g5.xlarge\",\n",
    "    endpoint_name=endpoint_name,\n",
    ")"
   ]
  },
  {
   "cell_type": "code",
   "execution_count": null,
   "id": "77dc2819-aea3-4257-80f7-39f81fd6541b",
   "metadata": {
    "tags": []
   },
   "outputs": [],
   "source": [
    "prompt = \"This is a test to see if\""
   ]
  },
  {
   "cell_type": "code",
   "execution_count": null,
   "id": "39eadb9b",
   "metadata": {
    "tags": []
   },
   "outputs": [],
   "source": [
    "data = {\n",
    "    \"inputs\": prompt,\n",
    "    \"do_sample\": False,\n",
    "}\n",
    "\n",
    "res = predictor.predict(data=data)\n",
    "print(res)"
   ]
  },
  {
   "cell_type": "code",
   "execution_count": null,
   "id": "67aefcd9",
   "metadata": {},
   "outputs": [],
   "source": []
  }
 ],
 "metadata": {
  "instance_type": "ml.t3.medium",
  "kernelspec": {
   "display_name": "Python 3 (Data Science)",
   "language": "python",
   "name": "python3__SAGEMAKER_INTERNAL__arn:aws:sagemaker:us-east-1:081325390199:image/datascience-1.0"
  },
  "language_info": {
   "codemirror_mode": {
    "name": "ipython",
    "version": 3
   },
   "file_extension": ".py",
   "mimetype": "text/x-python",
   "name": "python",
   "nbconvert_exporter": "python",
   "pygments_lexer": "ipython3",
   "version": "3.7.10"
  }
 },
 "nbformat": 4,
 "nbformat_minor": 5
}
